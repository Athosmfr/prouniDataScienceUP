{
  "nbformat": 4,
  "nbformat_minor": 0,
  "metadata": {
    "colab": {
      "provenance": [],
      "collapsed_sections": []
    },
    "kernelspec": {
      "name": "python3",
      "display_name": "Python 3"
    },
    "language_info": {
      "name": "python"
    }
  },
  "cells": [
    {
      "cell_type": "code",
      "execution_count": null,
      "metadata": {
        "id": "YnYoA0rrNoVN"
      },
      "outputs": [],
      "source": [
        "import pandas as pd\n",
        "%matplotlib inline"
      ]
    },
    {
      "cell_type": "code",
      "source": [
        "from google.colab import drive\n",
        "drive.mount('/content/drive')\n",
        "\n",
        "# lê o arquivo CSV\n",
        "df = pd.read_csv('/content/drive/MyDrive/cursos-prouni.csv')"
      ],
      "metadata": {
        "id": "WWPEMWJhPPwb"
      },
      "execution_count": null,
      "outputs": []
    },
    {
      "cell_type": "code",
      "source": [
        "# Visualizando algumas linhas de dados.\n",
        "df.head()"
      ],
      "metadata": {
        "colab": {
          "base_uri": "https://localhost:8080/",
          "height": 478
        },
        "id": "naWrskAdf7GI",
        "outputId": "ee06eafe-e3e3-4753-d9fd-43949a4c2ab3"
      },
      "execution_count": null,
      "outputs": [
        {
          "output_type": "execute_result",
          "data": {
            "text/plain": [
              "          grau     turno  mensalidade  bolsa_integral_cotas  \\\n",
              "0  Bacharelado  Integral      9999.99                  15.0   \n",
              "1  Bacharelado   Noturno      9836.40                   1.0   \n",
              "2  Bacharelado  Integral      9715.61                   2.0   \n",
              "3  Bacharelado   Noturno      9689.34                   3.0   \n",
              "4  Bacharelado  Integral      9674.34                   4.0   \n",
              "\n",
              "   bolsa_integral_ampla  bolsa_parcial_cotas  bolsa_parcial_ampla  \\\n",
              "0                  14.0                  NaN                  NaN   \n",
              "1                   NaN                  NaN                  NaN   \n",
              "2                   5.0                  6.0                 10.0   \n",
              "3                   2.0                  NaN                  NaN   \n",
              "4                   1.0                  5.0                  2.0   \n",
              "\n",
              "          curso_id curso_busca  cidade_busca uf_busca     cidade_filtro  \\\n",
              "0     706710394154    Medicina  Campo Grande       MS  NTAwMjAwNDAyNzA0   \n",
              "1  104191210567043  Enfermagem       Crateus       CE  MjMwNDAxODA0MTAz   \n",
              "2    1002328574024    Medicina     Sao Paulo       SP  MzUxNTA2MTUwMzA4   \n",
              "3  104191212798093  Psicologia       Crateus       CE  MjMwNDAxODA0MTAz   \n",
              "4   65899611932754    Medicina    Rio Branco       AC  MTIwMjAwNDAwNDAx   \n",
              "\n",
              "                           universidade_nome  \\\n",
              "0          Universidade Anhanguera - UNIDERP   \n",
              "1          Faculdade Princesa do Oeste - FPO   \n",
              "2  Universidade Cidade de São Paulo - UNICID   \n",
              "3          Faculdade Princesa do Oeste - FPO   \n",
              "4        Faculdade Barão do Rio Branco - FAB   \n",
              "\n",
              "                                         campus_nome  campus_id        nome  \\\n",
              "0                 CAMPO GRANDE - SEDE - Miguel Couto     706710    Medicina   \n",
              "1                         UNIDADE SEDE - São Vicente    1041912  Enfermagem   \n",
              "2  UNIVERSIDADE CIDADE DE SÃO PAULO - UNICID - SE...    1002328    Medicina   \n",
              "3                         UNIDADE SEDE - São Vicente    1041912  Psicologia   \n",
              "4  CAMPUS  - RIO BRANCO - JARDIM EUROPA II - Jard...     658996    Medicina   \n",
              "\n",
              "   nota_integral_ampla  nota_integral_cotas  nota_parcial_ampla  \\\n",
              "0               740.22               726.46                 NaN   \n",
              "1               663.36                  NaN                 NaN   \n",
              "2               739.62               738.08              738.96   \n",
              "3               651.00               652.22                 NaN   \n",
              "4               758.32               723.94              734.92   \n",
              "\n",
              "   nota_parcial_cotas  \n",
              "0                 NaN  \n",
              "1                 NaN  \n",
              "2              718.64  \n",
              "3                 NaN  \n",
              "4              711.26  "
            ],
            "text/html": [
              "\n",
              "  <div id=\"df-269211d6-7fa1-4241-b1d0-45747c158eb7\">\n",
              "    <div class=\"colab-df-container\">\n",
              "      <div>\n",
              "<style scoped>\n",
              "    .dataframe tbody tr th:only-of-type {\n",
              "        vertical-align: middle;\n",
              "    }\n",
              "\n",
              "    .dataframe tbody tr th {\n",
              "        vertical-align: top;\n",
              "    }\n",
              "\n",
              "    .dataframe thead th {\n",
              "        text-align: right;\n",
              "    }\n",
              "</style>\n",
              "<table border=\"1\" class=\"dataframe\">\n",
              "  <thead>\n",
              "    <tr style=\"text-align: right;\">\n",
              "      <th></th>\n",
              "      <th>grau</th>\n",
              "      <th>turno</th>\n",
              "      <th>mensalidade</th>\n",
              "      <th>bolsa_integral_cotas</th>\n",
              "      <th>bolsa_integral_ampla</th>\n",
              "      <th>bolsa_parcial_cotas</th>\n",
              "      <th>bolsa_parcial_ampla</th>\n",
              "      <th>curso_id</th>\n",
              "      <th>curso_busca</th>\n",
              "      <th>cidade_busca</th>\n",
              "      <th>uf_busca</th>\n",
              "      <th>cidade_filtro</th>\n",
              "      <th>universidade_nome</th>\n",
              "      <th>campus_nome</th>\n",
              "      <th>campus_id</th>\n",
              "      <th>nome</th>\n",
              "      <th>nota_integral_ampla</th>\n",
              "      <th>nota_integral_cotas</th>\n",
              "      <th>nota_parcial_ampla</th>\n",
              "      <th>nota_parcial_cotas</th>\n",
              "    </tr>\n",
              "  </thead>\n",
              "  <tbody>\n",
              "    <tr>\n",
              "      <th>0</th>\n",
              "      <td>Bacharelado</td>\n",
              "      <td>Integral</td>\n",
              "      <td>9999.99</td>\n",
              "      <td>15.0</td>\n",
              "      <td>14.0</td>\n",
              "      <td>NaN</td>\n",
              "      <td>NaN</td>\n",
              "      <td>706710394154</td>\n",
              "      <td>Medicina</td>\n",
              "      <td>Campo Grande</td>\n",
              "      <td>MS</td>\n",
              "      <td>NTAwMjAwNDAyNzA0</td>\n",
              "      <td>Universidade Anhanguera - UNIDERP</td>\n",
              "      <td>CAMPO GRANDE - SEDE - Miguel Couto</td>\n",
              "      <td>706710</td>\n",
              "      <td>Medicina</td>\n",
              "      <td>740.22</td>\n",
              "      <td>726.46</td>\n",
              "      <td>NaN</td>\n",
              "      <td>NaN</td>\n",
              "    </tr>\n",
              "    <tr>\n",
              "      <th>1</th>\n",
              "      <td>Bacharelado</td>\n",
              "      <td>Noturno</td>\n",
              "      <td>9836.40</td>\n",
              "      <td>1.0</td>\n",
              "      <td>NaN</td>\n",
              "      <td>NaN</td>\n",
              "      <td>NaN</td>\n",
              "      <td>104191210567043</td>\n",
              "      <td>Enfermagem</td>\n",
              "      <td>Crateus</td>\n",
              "      <td>CE</td>\n",
              "      <td>MjMwNDAxODA0MTAz</td>\n",
              "      <td>Faculdade Princesa do Oeste - FPO</td>\n",
              "      <td>UNIDADE SEDE - São Vicente</td>\n",
              "      <td>1041912</td>\n",
              "      <td>Enfermagem</td>\n",
              "      <td>663.36</td>\n",
              "      <td>NaN</td>\n",
              "      <td>NaN</td>\n",
              "      <td>NaN</td>\n",
              "    </tr>\n",
              "    <tr>\n",
              "      <th>2</th>\n",
              "      <td>Bacharelado</td>\n",
              "      <td>Integral</td>\n",
              "      <td>9715.61</td>\n",
              "      <td>2.0</td>\n",
              "      <td>5.0</td>\n",
              "      <td>6.0</td>\n",
              "      <td>10.0</td>\n",
              "      <td>1002328574024</td>\n",
              "      <td>Medicina</td>\n",
              "      <td>Sao Paulo</td>\n",
              "      <td>SP</td>\n",
              "      <td>MzUxNTA2MTUwMzA4</td>\n",
              "      <td>Universidade Cidade de São Paulo - UNICID</td>\n",
              "      <td>UNIVERSIDADE CIDADE DE SÃO PAULO - UNICID - SE...</td>\n",
              "      <td>1002328</td>\n",
              "      <td>Medicina</td>\n",
              "      <td>739.62</td>\n",
              "      <td>738.08</td>\n",
              "      <td>738.96</td>\n",
              "      <td>718.64</td>\n",
              "    </tr>\n",
              "    <tr>\n",
              "      <th>3</th>\n",
              "      <td>Bacharelado</td>\n",
              "      <td>Noturno</td>\n",
              "      <td>9689.34</td>\n",
              "      <td>3.0</td>\n",
              "      <td>2.0</td>\n",
              "      <td>NaN</td>\n",
              "      <td>NaN</td>\n",
              "      <td>104191212798093</td>\n",
              "      <td>Psicologia</td>\n",
              "      <td>Crateus</td>\n",
              "      <td>CE</td>\n",
              "      <td>MjMwNDAxODA0MTAz</td>\n",
              "      <td>Faculdade Princesa do Oeste - FPO</td>\n",
              "      <td>UNIDADE SEDE - São Vicente</td>\n",
              "      <td>1041912</td>\n",
              "      <td>Psicologia</td>\n",
              "      <td>651.00</td>\n",
              "      <td>652.22</td>\n",
              "      <td>NaN</td>\n",
              "      <td>NaN</td>\n",
              "    </tr>\n",
              "    <tr>\n",
              "      <th>4</th>\n",
              "      <td>Bacharelado</td>\n",
              "      <td>Integral</td>\n",
              "      <td>9674.34</td>\n",
              "      <td>4.0</td>\n",
              "      <td>1.0</td>\n",
              "      <td>5.0</td>\n",
              "      <td>2.0</td>\n",
              "      <td>65899611932754</td>\n",
              "      <td>Medicina</td>\n",
              "      <td>Rio Branco</td>\n",
              "      <td>AC</td>\n",
              "      <td>MTIwMjAwNDAwNDAx</td>\n",
              "      <td>Faculdade Barão do Rio Branco - FAB</td>\n",
              "      <td>CAMPUS  - RIO BRANCO - JARDIM EUROPA II - Jard...</td>\n",
              "      <td>658996</td>\n",
              "      <td>Medicina</td>\n",
              "      <td>758.32</td>\n",
              "      <td>723.94</td>\n",
              "      <td>734.92</td>\n",
              "      <td>711.26</td>\n",
              "    </tr>\n",
              "  </tbody>\n",
              "</table>\n",
              "</div>\n",
              "      <button class=\"colab-df-convert\" onclick=\"convertToInteractive('df-269211d6-7fa1-4241-b1d0-45747c158eb7')\"\n",
              "              title=\"Convert this dataframe to an interactive table.\"\n",
              "              style=\"display:none;\">\n",
              "        \n",
              "  <svg xmlns=\"http://www.w3.org/2000/svg\" height=\"24px\"viewBox=\"0 0 24 24\"\n",
              "       width=\"24px\">\n",
              "    <path d=\"M0 0h24v24H0V0z\" fill=\"none\"/>\n",
              "    <path d=\"M18.56 5.44l.94 2.06.94-2.06 2.06-.94-2.06-.94-.94-2.06-.94 2.06-2.06.94zm-11 1L8.5 8.5l.94-2.06 2.06-.94-2.06-.94L8.5 2.5l-.94 2.06-2.06.94zm10 10l.94 2.06.94-2.06 2.06-.94-2.06-.94-.94-2.06-.94 2.06-2.06.94z\"/><path d=\"M17.41 7.96l-1.37-1.37c-.4-.4-.92-.59-1.43-.59-.52 0-1.04.2-1.43.59L10.3 9.45l-7.72 7.72c-.78.78-.78 2.05 0 2.83L4 21.41c.39.39.9.59 1.41.59.51 0 1.02-.2 1.41-.59l7.78-7.78 2.81-2.81c.8-.78.8-2.07 0-2.86zM5.41 20L4 18.59l7.72-7.72 1.47 1.35L5.41 20z\"/>\n",
              "  </svg>\n",
              "      </button>\n",
              "      \n",
              "  <style>\n",
              "    .colab-df-container {\n",
              "      display:flex;\n",
              "      flex-wrap:wrap;\n",
              "      gap: 12px;\n",
              "    }\n",
              "\n",
              "    .colab-df-convert {\n",
              "      background-color: #E8F0FE;\n",
              "      border: none;\n",
              "      border-radius: 50%;\n",
              "      cursor: pointer;\n",
              "      display: none;\n",
              "      fill: #1967D2;\n",
              "      height: 32px;\n",
              "      padding: 0 0 0 0;\n",
              "      width: 32px;\n",
              "    }\n",
              "\n",
              "    .colab-df-convert:hover {\n",
              "      background-color: #E2EBFA;\n",
              "      box-shadow: 0px 1px 2px rgba(60, 64, 67, 0.3), 0px 1px 3px 1px rgba(60, 64, 67, 0.15);\n",
              "      fill: #174EA6;\n",
              "    }\n",
              "\n",
              "    [theme=dark] .colab-df-convert {\n",
              "      background-color: #3B4455;\n",
              "      fill: #D2E3FC;\n",
              "    }\n",
              "\n",
              "    [theme=dark] .colab-df-convert:hover {\n",
              "      background-color: #434B5C;\n",
              "      box-shadow: 0px 1px 3px 1px rgba(0, 0, 0, 0.15);\n",
              "      filter: drop-shadow(0px 1px 2px rgba(0, 0, 0, 0.3));\n",
              "      fill: #FFFFFF;\n",
              "    }\n",
              "  </style>\n",
              "\n",
              "      <script>\n",
              "        const buttonEl =\n",
              "          document.querySelector('#df-269211d6-7fa1-4241-b1d0-45747c158eb7 button.colab-df-convert');\n",
              "        buttonEl.style.display =\n",
              "          google.colab.kernel.accessAllowed ? 'block' : 'none';\n",
              "\n",
              "        async function convertToInteractive(key) {\n",
              "          const element = document.querySelector('#df-269211d6-7fa1-4241-b1d0-45747c158eb7');\n",
              "          const dataTable =\n",
              "            await google.colab.kernel.invokeFunction('convertToInteractive',\n",
              "                                                     [key], {});\n",
              "          if (!dataTable) return;\n",
              "\n",
              "          const docLinkHtml = 'Like what you see? Visit the ' +\n",
              "            '<a target=\"_blank\" href=https://colab.research.google.com/notebooks/data_table.ipynb>data table notebook</a>'\n",
              "            + ' to learn more about interactive tables.';\n",
              "          element.innerHTML = '';\n",
              "          dataTable['output_type'] = 'display_data';\n",
              "          await google.colab.output.renderOutput(dataTable, element);\n",
              "          const docLink = document.createElement('div');\n",
              "          docLink.innerHTML = docLinkHtml;\n",
              "          element.appendChild(docLink);\n",
              "        }\n",
              "      </script>\n",
              "    </div>\n",
              "  </div>\n",
              "  "
            ]
          },
          "metadata": {},
          "execution_count": 31
        }
      ]
    },
    {
      "cell_type": "code",
      "source": [
        "# Verificando tipagens das colunas e seus dados.\n",
        "df.info()"
      ],
      "metadata": {
        "id": "jJcVN0qigVzA"
      },
      "execution_count": null,
      "outputs": []
    },
    {
      "cell_type": "code",
      "source": [
        "# Criando novo dataset para fazer limpeza.\n",
        "df_limpeza = df"
      ],
      "metadata": {
        "id": "9EzQM6k9wWOs"
      },
      "execution_count": 58,
      "outputs": []
    },
    {
      "cell_type": "code",
      "source": [
        "# Renomear titulo das colunas (Uppercase)\n",
        "df_limpeza = df.rename(columns={'grau': 'GRAU', 'turno': 'TURNO', 'mensalidade': 'MENSALIDADE', 'bolsa_integral_cotas': 'BOLSA_INTEGRAL_COTAS', 'bolsa_integral_ampla': 'BOLSA_INTEGRAL_AMPLA', 'bolsa_parcial_cotas': 'BOLSA_PARCIAL_COTAS', \n",
        "                        'bolsa_parcial_ampla': 'BOLSA_PARCIAL_AMPLA', 'curso_id': 'CURSO_ID', 'curso_busca': 'CURSO_BUSCA', 'cidade_busca': 'CIDADE_BUSCA', 'uf_busca': 'UF_BUSCA', 'cidade_filtro': 'CIDADE_FILTRO', \n",
        "                        'universidade_nome': 'UNIVERSIDADE_NOME', 'campus_nome': 'CAMPUS_NOME', 'campus_id': 'CAMPUS_ID', 'nome': 'NOME', 'nota_integral_ampla': 'NOTA_INTEGRAL_AMPLA', 'nota_integral_cotas': 'NOTA_INTEGRAL_COTAS',\n",
        "                        'nota_parcial_ampla': 'NOTA_PARCIAL_AMPLA', 'nota_parcial_cotas': 'NOTA_PARCIAL_COTAS'})\n",
        "# mudar coluna nome para nome_curso\n",
        "df_limpeza.info()"
      ],
      "metadata": {
        "id": "6dYuPiMojgpc"
      },
      "execution_count": null,
      "outputs": []
    },
    {
      "cell_type": "code",
      "source": [
        "# Identificando quais colunas possuem valores nulos.\n",
        "df_limpeza.isnull().any()"
      ],
      "metadata": {
        "id": "q6y4Zxnfo-gD"
      },
      "execution_count": null,
      "outputs": []
    },
    {
      "cell_type": "code",
      "source": [
        "# Substituindo valores nulos por 0 nas colunas que possuem nulos.\n",
        "#df_limpeza.fillna(0) # substituiu valores nulos por 0 mas continua retornando como tendo valores nulos dentro das colunas\n",
        "df_limpeza['BOLSA_INTEGRAL_COTAS'] = df_limpeza['BOLSA_INTEGRAL_COTAS'].fillna(0)\n",
        "df_limpeza['BOLSA_INTEGRAL_AMPLA'] = df_limpeza['BOLSA_INTEGRAL_AMPLA'].fillna(0)\n",
        "df_limpeza['BOLSA_PARCIAL_COTAS'] = df_limpeza['BOLSA_INTEGRAL_COTAS'].fillna(0)\n",
        "df_limpeza['BOLSA_PARCIAL_AMPLA'] = df_limpeza['BOLSA_PARCIAL_AMPLA'].fillna(0)\n",
        "\n",
        "df_limpeza['NOTA_INTEGRAL_AMPLA'] = df_limpeza['NOTA_INTEGRAL_AMPLA'].fillna(0)\n",
        "df_limpeza['NOTA_INTEGRAL_COTAS'] = df_limpeza['NOTA_INTEGRAL_COTAS'].fillna(0)\n",
        "df_limpeza['NOTA_PARCIAL_AMPLA'] = df_limpeza['NOTA_PARCIAL_AMPLA'].fillna(0)\n",
        "df_limpeza['NOTA_PARCIAL_COTAS'] = df_limpeza['NOTA_PARCIAL_COTAS'].fillna(0)"
      ],
      "metadata": {
        "id": "Pf0LxelSj-a5"
      },
      "execution_count": 76,
      "outputs": []
    },
    {
      "cell_type": "code",
      "source": [
        "# Checando se ainda existe algum valor nulo nas colunas.\n",
        "df_limpeza.isnull().any()"
      ],
      "metadata": {
        "colab": {
          "base_uri": "https://localhost:8080/"
        },
        "id": "9N3AVxiFy3gb",
        "outputId": "6a730cd5-6a14-4722-a51d-bb1023d4c699"
      },
      "execution_count": 77,
      "outputs": [
        {
          "output_type": "execute_result",
          "data": {
            "text/plain": [
              "GRAU                    False\n",
              "TURNO                   False\n",
              "MENSALIDADE             False\n",
              "BOLSA_INTEGRAL_COTAS    False\n",
              "BOLSA_INTEGRAL_AMPLA    False\n",
              "BOLSA_PARCIAL_COTAS     False\n",
              "BOLSA_PARCIAL_AMPLA     False\n",
              "CURSO_ID                False\n",
              "CURSO_BUSCA             False\n",
              "CIDADE_BUSCA            False\n",
              "UF_BUSCA                False\n",
              "CIDADE_FILTRO           False\n",
              "UNIVERSIDADE_NOME       False\n",
              "CAMPUS_NOME             False\n",
              "CAMPUS_ID               False\n",
              "NOME                    False\n",
              "NOTA_INTEGRAL_AMPLA     False\n",
              "NOTA_INTEGRAL_COTAS     False\n",
              "NOTA_PARCIAL_AMPLA      False\n",
              "NOTA_PARCIAL_COTAS      False\n",
              "dtype: bool"
            ]
          },
          "metadata": {},
          "execution_count": 77
        }
      ]
    },
    {
      "cell_type": "code",
      "source": [
        "# Renomear titulo das colunas (Uppercase)\n",
        "# Substituir  valores NaN por 0 ou relacionado.\n",
        "# Remover coluna de cidade_filtro.\n",
        "# Remover coluna de curso_id.\n",
        "# Mudar tipo de bolsa_* de float para int."
      ],
      "metadata": {
        "id": "olKu5SobekuW"
      },
      "execution_count": 33,
      "outputs": []
    },
    {
      "cell_type": "code",
      "source": [
        "# Cursos que são mais oferecidos\n",
        "# notas de corte x cursos -> analisar as maiores notas de corte\n",
        "# Mensalidades(custo) x curso - > analisar os cursos mais caros\n",
        "# Universidades x nota parcial"
      ],
      "metadata": {
        "id": "1TZQrG2diIXU"
      },
      "execution_count": null,
      "outputs": []
    },
    {
      "cell_type": "markdown",
      "source": [],
      "metadata": {
        "id": "lHFO6C3piHnn"
      }
    }
  ]
}