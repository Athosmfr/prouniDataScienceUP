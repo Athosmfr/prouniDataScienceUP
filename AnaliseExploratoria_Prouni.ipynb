{
  "nbformat": 4,
  "nbformat_minor": 0,
  "metadata": {
    "colab": {
      "provenance": [],
      "collapsed_sections": []
    },
    "kernelspec": {
      "name": "python3",
      "display_name": "Python 3"
    },
    "language_info": {
      "name": "python"
    }
  },
  "cells": [
    {
      "cell_type": "code",
      "execution_count": null,
      "metadata": {
        "id": "l2zLvKW-5qEJ"
      },
      "outputs": [],
      "source": [
        "#-Comentar sobre a amostra de dados do prouni\n",
        "\n",
        "#-Gerar medidas centrais para valores como:\n",
        "\n",
        "# Cursos que são mais oferecidos\n",
        "# notas de corte x cursos -> analisar as maiores notas de corte\n",
        "# Mensalidades(custo) x curso - > analisar os cursos mais caros\n",
        "# Universidades x nota parcial\n",
        "#gerar histogramas para dados acima\n",
        "\n",
        "#- gerar medidas de posição (fractis, percentis, quartis)\n",
        "#para identificar outliers, demonstra-los com boxplot\n",
        "\n",
        "#-- fazer medidas de dispersão -> usar equação de sturges para gerar bins(tamanho da largura das classes)\n",
        "\n",
        "#-fazer variância das relações\n",
        "#-desvio padrão\n",
        "\n",
        "#--fazer correlação:\n",
        "#gráfico de dispersão com scatterplot, análisar se as correlações são lineares, se existe correlação, etc.\n",
        "#-tentar fazer correlação e Pearson\n",
        "\n",
        "#-covariância:\n",
        "#ocorre como variância em duas dimensões, selecionar variâncias como nota de corte e cursos com valor da mensalidade e qtde_vagas para cotistas\n",
        "\n",
        "#tentar fazer e identificar a distribuição normal"
      ]
    },
    {
      "cell_type": "code",
      "source": [
        "# Em nosso projeto selecionamos a amostra de dados dos cursos oferecidos pelo Prouni, que apresenta dados sobre bolsas, notas necessarias para o curso e outros dados sobre os cursos, através de analises vamos poder identificar \n",
        "# correlações e variações entre os dados. "
      ],
      "metadata": {
        "id": "uznpMkAh6XmT"
      },
      "execution_count": null,
      "outputs": []
    },
    {
      "cell_type": "code",
      "source": [
        "import numpy as np\n",
        "import pandas as pd"
      ],
      "metadata": {
        "id": "ZDiHYr327E4D"
      },
      "execution_count": null,
      "outputs": []
    },
    {
      "cell_type": "code",
      "source": [
        "from google.colab import drive\n",
        "drive.mount('/content/drive')"
      ],
      "metadata": {
        "colab": {
          "base_uri": "https://localhost:8080/"
        },
        "id": "JYgjj3Ju7UkA",
        "outputId": "e6a4baa9-5ccc-4dd3-eb50-bcf51bddf01b"
      },
      "execution_count": null,
      "outputs": [
        {
          "output_type": "stream",
          "name": "stdout",
          "text": [
            "Drive already mounted at /content/drive; to attempt to forcibly remount, call drive.mount(\"/content/drive\", force_remount=True).\n"
          ]
        }
      ]
    },
    {
      "cell_type": "code",
      "source": [
        "df = pd.read_csv('/content/drive/MyDrive/cursos-prouni-limpo.csv')\n",
        "df.head()"
      ],
      "metadata": {
        "colab": {
          "base_uri": "https://localhost:8080/",
          "height": 513
        },
        "id": "uOLXBvCF7b-9",
        "outputId": "6bd51bc8-df17-4d57-8936-2cfe83f4ffc5"
      },
      "execution_count": null,
      "outputs": [
        {
          "output_type": "execute_result",
          "data": {
            "text/plain": [
              "          GRAU     TURNO  MENSALIDADE  BOLSA_INTEGRAL_COTAS  \\\n",
              "0  Bacharelado  Integral      9999.99                    15   \n",
              "1  Bacharelado   Noturno      9836.40                     1   \n",
              "2  Bacharelado  Integral      9715.61                     2   \n",
              "3  Bacharelado   Noturno      9689.34                     3   \n",
              "4  Bacharelado  Integral      9674.34                     4   \n",
              "\n",
              "   BOLSA_INTEGRAL_AMPLA  BOLSA_PARCIAL_COTAS  BOLSA_PARCIAL_AMPLA CURSO_BUSCA  \\\n",
              "0                    14                   15                    0    Medicina   \n",
              "1                     0                    1                    0  Enfermagem   \n",
              "2                     5                    2                   10    Medicina   \n",
              "3                     2                    3                    0  Psicologia   \n",
              "4                     1                    4                    2    Medicina   \n",
              "\n",
              "   CIDADE_BUSCA UF_BUSCA                          UNIVERSIDADE_NOME  \\\n",
              "0  Campo Grande       MS          Universidade Anhanguera - UNIDERP   \n",
              "1       Crateus       CE          Faculdade Princesa do Oeste - FPO   \n",
              "2     Sao Paulo       SP  Universidade Cidade de São Paulo - UNICID   \n",
              "3       Crateus       CE          Faculdade Princesa do Oeste - FPO   \n",
              "4    Rio Branco       AC        Faculdade Barão do Rio Branco - FAB   \n",
              "\n",
              "                                         CAMPUS_NOME  CAMPUS_ID        NOME  \\\n",
              "0                 CAMPO GRANDE - SEDE - Miguel Couto     706710    Medicina   \n",
              "1                         UNIDADE SEDE - São Vicente    1041912  Enfermagem   \n",
              "2  UNIVERSIDADE CIDADE DE SÃO PAULO - UNICID - SE...    1002328    Medicina   \n",
              "3                         UNIDADE SEDE - São Vicente    1041912  Psicologia   \n",
              "4  CAMPUS  - RIO BRANCO - JARDIM EUROPA II - Jard...     658996    Medicina   \n",
              "\n",
              "   NOTA_INTEGRAL_AMPLA  NOTA_INTEGRAL_COTAS  NOTA_PARCIAL_AMPLA  \\\n",
              "0               740.22               726.46                0.00   \n",
              "1               663.36                 0.00                0.00   \n",
              "2               739.62               738.08              738.96   \n",
              "3               651.00               652.22                0.00   \n",
              "4               758.32               723.94              734.92   \n",
              "\n",
              "   NOTA_PARCIAL_COTAS  \n",
              "0                0.00  \n",
              "1                0.00  \n",
              "2              718.64  \n",
              "3                0.00  \n",
              "4              711.26  "
            ],
            "text/html": [
              "\n",
              "  <div id=\"df-68b6c697-5323-481c-a00b-194f65a23902\">\n",
              "    <div class=\"colab-df-container\">\n",
              "      <div>\n",
              "<style scoped>\n",
              "    .dataframe tbody tr th:only-of-type {\n",
              "        vertical-align: middle;\n",
              "    }\n",
              "\n",
              "    .dataframe tbody tr th {\n",
              "        vertical-align: top;\n",
              "    }\n",
              "\n",
              "    .dataframe thead th {\n",
              "        text-align: right;\n",
              "    }\n",
              "</style>\n",
              "<table border=\"1\" class=\"dataframe\">\n",
              "  <thead>\n",
              "    <tr style=\"text-align: right;\">\n",
              "      <th></th>\n",
              "      <th>GRAU</th>\n",
              "      <th>TURNO</th>\n",
              "      <th>MENSALIDADE</th>\n",
              "      <th>BOLSA_INTEGRAL_COTAS</th>\n",
              "      <th>BOLSA_INTEGRAL_AMPLA</th>\n",
              "      <th>BOLSA_PARCIAL_COTAS</th>\n",
              "      <th>BOLSA_PARCIAL_AMPLA</th>\n",
              "      <th>CURSO_BUSCA</th>\n",
              "      <th>CIDADE_BUSCA</th>\n",
              "      <th>UF_BUSCA</th>\n",
              "      <th>UNIVERSIDADE_NOME</th>\n",
              "      <th>CAMPUS_NOME</th>\n",
              "      <th>CAMPUS_ID</th>\n",
              "      <th>NOME</th>\n",
              "      <th>NOTA_INTEGRAL_AMPLA</th>\n",
              "      <th>NOTA_INTEGRAL_COTAS</th>\n",
              "      <th>NOTA_PARCIAL_AMPLA</th>\n",
              "      <th>NOTA_PARCIAL_COTAS</th>\n",
              "    </tr>\n",
              "  </thead>\n",
              "  <tbody>\n",
              "    <tr>\n",
              "      <th>0</th>\n",
              "      <td>Bacharelado</td>\n",
              "      <td>Integral</td>\n",
              "      <td>9999.99</td>\n",
              "      <td>15</td>\n",
              "      <td>14</td>\n",
              "      <td>15</td>\n",
              "      <td>0</td>\n",
              "      <td>Medicina</td>\n",
              "      <td>Campo Grande</td>\n",
              "      <td>MS</td>\n",
              "      <td>Universidade Anhanguera - UNIDERP</td>\n",
              "      <td>CAMPO GRANDE - SEDE - Miguel Couto</td>\n",
              "      <td>706710</td>\n",
              "      <td>Medicina</td>\n",
              "      <td>740.22</td>\n",
              "      <td>726.46</td>\n",
              "      <td>0.00</td>\n",
              "      <td>0.00</td>\n",
              "    </tr>\n",
              "    <tr>\n",
              "      <th>1</th>\n",
              "      <td>Bacharelado</td>\n",
              "      <td>Noturno</td>\n",
              "      <td>9836.40</td>\n",
              "      <td>1</td>\n",
              "      <td>0</td>\n",
              "      <td>1</td>\n",
              "      <td>0</td>\n",
              "      <td>Enfermagem</td>\n",
              "      <td>Crateus</td>\n",
              "      <td>CE</td>\n",
              "      <td>Faculdade Princesa do Oeste - FPO</td>\n",
              "      <td>UNIDADE SEDE - São Vicente</td>\n",
              "      <td>1041912</td>\n",
              "      <td>Enfermagem</td>\n",
              "      <td>663.36</td>\n",
              "      <td>0.00</td>\n",
              "      <td>0.00</td>\n",
              "      <td>0.00</td>\n",
              "    </tr>\n",
              "    <tr>\n",
              "      <th>2</th>\n",
              "      <td>Bacharelado</td>\n",
              "      <td>Integral</td>\n",
              "      <td>9715.61</td>\n",
              "      <td>2</td>\n",
              "      <td>5</td>\n",
              "      <td>2</td>\n",
              "      <td>10</td>\n",
              "      <td>Medicina</td>\n",
              "      <td>Sao Paulo</td>\n",
              "      <td>SP</td>\n",
              "      <td>Universidade Cidade de São Paulo - UNICID</td>\n",
              "      <td>UNIVERSIDADE CIDADE DE SÃO PAULO - UNICID - SE...</td>\n",
              "      <td>1002328</td>\n",
              "      <td>Medicina</td>\n",
              "      <td>739.62</td>\n",
              "      <td>738.08</td>\n",
              "      <td>738.96</td>\n",
              "      <td>718.64</td>\n",
              "    </tr>\n",
              "    <tr>\n",
              "      <th>3</th>\n",
              "      <td>Bacharelado</td>\n",
              "      <td>Noturno</td>\n",
              "      <td>9689.34</td>\n",
              "      <td>3</td>\n",
              "      <td>2</td>\n",
              "      <td>3</td>\n",
              "      <td>0</td>\n",
              "      <td>Psicologia</td>\n",
              "      <td>Crateus</td>\n",
              "      <td>CE</td>\n",
              "      <td>Faculdade Princesa do Oeste - FPO</td>\n",
              "      <td>UNIDADE SEDE - São Vicente</td>\n",
              "      <td>1041912</td>\n",
              "      <td>Psicologia</td>\n",
              "      <td>651.00</td>\n",
              "      <td>652.22</td>\n",
              "      <td>0.00</td>\n",
              "      <td>0.00</td>\n",
              "    </tr>\n",
              "    <tr>\n",
              "      <th>4</th>\n",
              "      <td>Bacharelado</td>\n",
              "      <td>Integral</td>\n",
              "      <td>9674.34</td>\n",
              "      <td>4</td>\n",
              "      <td>1</td>\n",
              "      <td>4</td>\n",
              "      <td>2</td>\n",
              "      <td>Medicina</td>\n",
              "      <td>Rio Branco</td>\n",
              "      <td>AC</td>\n",
              "      <td>Faculdade Barão do Rio Branco - FAB</td>\n",
              "      <td>CAMPUS  - RIO BRANCO - JARDIM EUROPA II - Jard...</td>\n",
              "      <td>658996</td>\n",
              "      <td>Medicina</td>\n",
              "      <td>758.32</td>\n",
              "      <td>723.94</td>\n",
              "      <td>734.92</td>\n",
              "      <td>711.26</td>\n",
              "    </tr>\n",
              "  </tbody>\n",
              "</table>\n",
              "</div>\n",
              "      <button class=\"colab-df-convert\" onclick=\"convertToInteractive('df-68b6c697-5323-481c-a00b-194f65a23902')\"\n",
              "              title=\"Convert this dataframe to an interactive table.\"\n",
              "              style=\"display:none;\">\n",
              "        \n",
              "  <svg xmlns=\"http://www.w3.org/2000/svg\" height=\"24px\"viewBox=\"0 0 24 24\"\n",
              "       width=\"24px\">\n",
              "    <path d=\"M0 0h24v24H0V0z\" fill=\"none\"/>\n",
              "    <path d=\"M18.56 5.44l.94 2.06.94-2.06 2.06-.94-2.06-.94-.94-2.06-.94 2.06-2.06.94zm-11 1L8.5 8.5l.94-2.06 2.06-.94-2.06-.94L8.5 2.5l-.94 2.06-2.06.94zm10 10l.94 2.06.94-2.06 2.06-.94-2.06-.94-.94-2.06-.94 2.06-2.06.94z\"/><path d=\"M17.41 7.96l-1.37-1.37c-.4-.4-.92-.59-1.43-.59-.52 0-1.04.2-1.43.59L10.3 9.45l-7.72 7.72c-.78.78-.78 2.05 0 2.83L4 21.41c.39.39.9.59 1.41.59.51 0 1.02-.2 1.41-.59l7.78-7.78 2.81-2.81c.8-.78.8-2.07 0-2.86zM5.41 20L4 18.59l7.72-7.72 1.47 1.35L5.41 20z\"/>\n",
              "  </svg>\n",
              "      </button>\n",
              "      \n",
              "  <style>\n",
              "    .colab-df-container {\n",
              "      display:flex;\n",
              "      flex-wrap:wrap;\n",
              "      gap: 12px;\n",
              "    }\n",
              "\n",
              "    .colab-df-convert {\n",
              "      background-color: #E8F0FE;\n",
              "      border: none;\n",
              "      border-radius: 50%;\n",
              "      cursor: pointer;\n",
              "      display: none;\n",
              "      fill: #1967D2;\n",
              "      height: 32px;\n",
              "      padding: 0 0 0 0;\n",
              "      width: 32px;\n",
              "    }\n",
              "\n",
              "    .colab-df-convert:hover {\n",
              "      background-color: #E2EBFA;\n",
              "      box-shadow: 0px 1px 2px rgba(60, 64, 67, 0.3), 0px 1px 3px 1px rgba(60, 64, 67, 0.15);\n",
              "      fill: #174EA6;\n",
              "    }\n",
              "\n",
              "    [theme=dark] .colab-df-convert {\n",
              "      background-color: #3B4455;\n",
              "      fill: #D2E3FC;\n",
              "    }\n",
              "\n",
              "    [theme=dark] .colab-df-convert:hover {\n",
              "      background-color: #434B5C;\n",
              "      box-shadow: 0px 1px 3px 1px rgba(0, 0, 0, 0.15);\n",
              "      filter: drop-shadow(0px 1px 2px rgba(0, 0, 0, 0.3));\n",
              "      fill: #FFFFFF;\n",
              "    }\n",
              "  </style>\n",
              "\n",
              "      <script>\n",
              "        const buttonEl =\n",
              "          document.querySelector('#df-68b6c697-5323-481c-a00b-194f65a23902 button.colab-df-convert');\n",
              "        buttonEl.style.display =\n",
              "          google.colab.kernel.accessAllowed ? 'block' : 'none';\n",
              "\n",
              "        async function convertToInteractive(key) {\n",
              "          const element = document.querySelector('#df-68b6c697-5323-481c-a00b-194f65a23902');\n",
              "          const dataTable =\n",
              "            await google.colab.kernel.invokeFunction('convertToInteractive',\n",
              "                                                     [key], {});\n",
              "          if (!dataTable) return;\n",
              "\n",
              "          const docLinkHtml = 'Like what you see? Visit the ' +\n",
              "            '<a target=\"_blank\" href=https://colab.research.google.com/notebooks/data_table.ipynb>data table notebook</a>'\n",
              "            + ' to learn more about interactive tables.';\n",
              "          element.innerHTML = '';\n",
              "          dataTable['output_type'] = 'display_data';\n",
              "          await google.colab.output.renderOutput(dataTable, element);\n",
              "          const docLink = document.createElement('div');\n",
              "          docLink.innerHTML = docLinkHtml;\n",
              "          element.appendChild(docLink);\n",
              "        }\n",
              "      </script>\n",
              "    </div>\n",
              "  </div>\n",
              "  "
            ]
          },
          "metadata": {},
          "execution_count": 7
        }
      ]
    },
    {
      "cell_type": "code",
      "source": [
        "df_analise = df"
      ],
      "metadata": {
        "id": "pyFQWUiFUkk-"
      },
      "execution_count": null,
      "outputs": []
    },
    {
      "cell_type": "code",
      "source": [
        "#quantidade de BOLSA_INTEGRAL_COTAS, BOLSA_INTEGRAL_AMPLA, BOLSA_PARCIAL_COTAS e BOLSA_PARCIAL_AMPLA\n",
        "\n",
        "print(\"Bolsas disponíveis \\nbolsas integrais de cotas: \" ,df_analise['BOLSA_INTEGRAL_COTAS'].sum())\n",
        "print(\"bolsas integrais amplas: \", df_analise['BOLSA_INTEGRAL_AMPLA'].sum())\n",
        "print(\"bolsa parcial de cotas: \", df_analise['BOLSA_PARCIAL_COTAS'].sum())\n",
        "print(\"bolsas parciais amplas: \", df_analise['BOLSA_PARCIAL_AMPLA'].sum())\n",
        "print(\"Total de bolsas oferecidas: \", df_analise['BOLSA_INTEGRAL_COTAS'].sum() + df_analise['BOLSA_INTEGRAL_AMPLA'].sum() + df_analise['BOLSA_PARCIAL_COTAS'].sum() + df_analise['BOLSA_PARCIAL_AMPLA'].sum() )"
      ],
      "metadata": {
        "colab": {
          "base_uri": "https://localhost:8080/"
        },
        "id": "IDbC7dlaUZdz",
        "outputId": "de8a54f8-7f49-4949-be1e-91dc03a4805f"
      },
      "execution_count": null,
      "outputs": [
        {
          "output_type": "stream",
          "name": "stdout",
          "text": [
            "Bolsas disponíveis \n",
            "bolsas integrais de cotas:  49931\n",
            "bolsas integrais amplas:  63854\n",
            "bolsa parcial de cotas:  49931\n",
            "bolsas parciais amplas:  112577\n",
            "Total de bolsas oferecidas:  276293\n"
          ]
        }
      ]
    },
    {
      "cell_type": "code",
      "source": [
        "# Cursos que são mais oferecidos\n",
        "df_analise['CURSO_BUSCA'].value_counts().head(10)"
      ],
      "metadata": {
        "colab": {
          "base_uri": "https://localhost:8080/"
        },
        "id": "pVgj7pVr-lzs",
        "outputId": "81947b13-83ad-41ab-a318-0d5f858c58c5"
      },
      "execution_count": null,
      "outputs": [
        {
          "output_type": "execute_result",
          "data": {
            "text/plain": [
              "Administração                            2754\n",
              "Pedagogia                                2555\n",
              "Ciências Contábeis                       2056\n",
              "Gestão de Recursos Humanos               1595\n",
              "Educação Física                          1528\n",
              "Serviço Social                           1166\n",
              "Direito                                  1093\n",
              "Logística                                1042\n",
              "Processos Gerenciais                     1011\n",
              "Análise e Desenvolvimento de Sistemas    1008\n",
              "Name: CURSO_BUSCA, dtype: int64"
            ]
          },
          "metadata": {},
          "execution_count": 11
        }
      ]
    },
    {
      "cell_type": "code",
      "source": [],
      "metadata": {
        "id": "YauW2oLCAmIO"
      },
      "execution_count": null,
      "outputs": []
    }
  ]
}